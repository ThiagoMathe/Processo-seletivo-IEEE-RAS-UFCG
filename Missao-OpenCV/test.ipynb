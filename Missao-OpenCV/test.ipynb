{
 "cells": [
  {
   "cell_type": "code",
   "execution_count": 2,
   "id": "439d62a1",
   "metadata": {},
   "outputs": [
    {
     "name": "stdout",
     "output_type": "stream",
     "text": [
      "Largura em pixels: 1024\n",
      "Altura em pixels: 549\n",
      "Qtde de canais: 3\n"
     ]
    },
    {
     "data": {
      "text/plain": [
       "True"
      ]
     },
     "execution_count": 2,
     "metadata": {},
     "output_type": "execute_result"
    }
   ],
   "source": [
    "# Importação das bibliotecas\n",
    "import cv2 as cv\n",
    "import numpy as np\n",
    "import pandas as pd\n",
    "\n",
    "# Leitura da imagem com a função imread()\n",
    "\n",
    "imagem = cv.imread('imagem.png')\n",
    "print('Largura em pixels: ', end='')\n",
    "print(imagem.shape[1]) #largura da imagem\n",
    "print('Altura em pixels: ', end='')\n",
    "print(imagem.shape[0]) #altura da imagem\n",
    "print('Qtde de canais: ', end='')\n",
    "print(imagem.shape[2])\n",
    "# Mostra a imagem com a função imshow\n",
    "cv.imshow(\"Nome da janela\", imagem)\n",
    "cv.waitKey(0) #espera pressionar qualquer tecla\n",
    "# Salvar a imagem no disco com função imwrite()\n",
    "cv.imwrite(\"saida.jpg\", imagem)"
   ]
  },
  {
   "cell_type": "markdown",
   "id": "94866970",
   "metadata": {},
   "source": [
    "## cap 2"
   ]
  },
  {
   "cell_type": "code",
   "execution_count": 3,
   "id": "156cc017",
   "metadata": {},
   "outputs": [],
   "source": [
    "import cv2\n",
    "imagem = cv2.imread('Ponte.jpg')\n",
    "(b, g, r) = imagem[0, 0] #veja que a ordem BGR e não RGB"
   ]
  },
  {
   "cell_type": "code",
   "execution_count": 4,
   "id": "9e63be10",
   "metadata": {},
   "outputs": [
    {
     "name": "stdout",
     "output_type": "stream",
     "text": [
      "O pixel (0, 0) tem as seguintes cores:\n",
      "Vermelho: 254 Verde: 254 Azul: 254\n"
     ]
    }
   ],
   "source": [
    "print('O pixel (0, 0) tem as seguintes cores:')\n",
    "print('Vermelho:', r, 'Verde:', g, 'Azul:', b)"
   ]
  },
  {
   "cell_type": "code",
   "execution_count": 5,
   "id": "884ac442",
   "metadata": {},
   "outputs": [
    {
     "data": {
      "text/plain": [
       "-1"
      ]
     },
     "execution_count": 5,
     "metadata": {},
     "output_type": "execute_result"
    }
   ],
   "source": [
    "import cv2\n",
    "imagem = cv2.imread('Ponte.jpg')\n",
    "for y in range(0, imagem.shape[0]):\n",
    " for x in range(0, imagem.shape[1]):\n",
    "     imagem[y, x] = (255,0,0)\n",
    "cv2.imshow(\"Imagem modificada\", imagem)\n",
    "cv2.waitKey(0)"
   ]
  },
  {
   "cell_type": "code",
   "execution_count": 6,
   "id": "e8ee903f",
   "metadata": {},
   "outputs": [
    {
     "data": {
      "text/plain": [
       "-1"
      ]
     },
     "execution_count": 6,
     "metadata": {},
     "output_type": "execute_result"
    }
   ],
   "source": [
    "import cv2\n",
    "imagem = cv2.imread('ponte.jpg')\n",
    "for y in range(0, imagem.shape[0]): #percorre linhas\n",
    " for x in range(0, imagem.shape[1]): #percorre colunas\n",
    "     imagem[y, x] = (x%256,y%256,x%256)\n",
    "cv2.imshow(\"Imagem modificada\", imagem)\n",
    "cv2.waitKey(0)"
   ]
  },
  {
   "cell_type": "code",
   "execution_count": 7,
   "id": "ae3638e7",
   "metadata": {},
   "outputs": [
    {
     "data": {
      "text/plain": [
       "-1"
      ]
     },
     "execution_count": 7,
     "metadata": {},
     "output_type": "execute_result"
    }
   ],
   "source": [
    "import cv2\n",
    "imagem = cv2.imread('Ponte.jpg')\n",
    "for y in range(0, imagem.shape[0], 1): #percorre as linhas\n",
    " for x in range(0, imagem.shape[1], 1): #percorre as colunas\n",
    "     imagem[y, x] = (0,(x*y)%256,0)\n",
    "cv2.imshow(\"Imagem modificada\", imagem)\n",
    "cv2.waitKey(0)"
   ]
  },
  {
   "cell_type": "code",
   "execution_count": 8,
   "id": "952a4f7d",
   "metadata": {},
   "outputs": [
    {
     "data": {
      "text/plain": [
       "-1"
      ]
     },
     "execution_count": 8,
     "metadata": {},
     "output_type": "execute_result"
    }
   ],
   "source": [
    "import cv2\n",
    "imagem = cv2.imread('Ponte.jpg')\n",
    "for y in range(0, imagem.shape[0], 10): #percorre linhas\n",
    " for x in range(0, imagem.shape[1], 10): #percorre colunas\n",
    "    imagem[y:y+5, x: x+5] = (0,255,255)\n",
    "cv2.imshow(\"Imagem modificada\", imagem)\n",
    "cv2.waitKey(0)"
   ]
  },
  {
   "cell_type": "code",
   "execution_count": null,
   "id": "d6cb0e64",
   "metadata": {},
   "outputs": [],
   "source": []
  }
 ],
 "metadata": {
  "kernelspec": {
   "display_name": "Python 3 (ipykernel)",
   "language": "python",
   "name": "python3"
  },
  "language_info": {
   "codemirror_mode": {
    "name": "ipython",
    "version": 3
   },
   "file_extension": ".py",
   "mimetype": "text/x-python",
   "name": "python",
   "nbconvert_exporter": "python",
   "pygments_lexer": "ipython3",
   "version": "3.10.9"
  }
 },
 "nbformat": 4,
 "nbformat_minor": 5
}
